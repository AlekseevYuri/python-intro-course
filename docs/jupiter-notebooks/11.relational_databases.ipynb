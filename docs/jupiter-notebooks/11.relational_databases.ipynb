{
 "cells": [
  {
   "cell_type": "markdown",
   "metadata": {},
   "source": [
    "# Работа с реляционными БД\n",
    "\n",
    "## Термины\n",
    "\n",
    "* **БД** — база данных, то, где хранятся данные (вот так)\n",
    "* **СУБД** — система управления базами данных — программное обеспечение для работы в с данными\n",
    "* **Отношение** термин [*реляционной алгебры*](https://ru.wikipedia.org/wiki/%D0%A0%D0%B5%D0%BB%D1%8F%D1%86%D0%B8%D0%BE%D0%BD%D0%BD%D0%B0%D1%8F_%D0%B0%D0%BB%D0%B3%D0%B5%D0%B1%D1%80%D0%B0) — аналог таблицы истинности логического отношения\n",
    "* **Таблица** — набор данных в БД, соответствующий отношению в реляционной алгебре\n",
    "\n",
    "## Структура и нормализация данных\n",
    "\n",
    "1. 1NF — отношение состоит из кортежей одинаковой природы, элементы кортежей атомарны\n",
    "2. 2NF — каждый неключевой атрибут функционально зависит от ключа\n",
    "3. 3NF — нет транзитивных функциональных зависимостей\n",
    "\n",
    "...\n",
    "\n",
    "См. Дейт К. Дж. Введение в системы баз данных\n",
    "\n",
    "## Поехали уже =)\n",
    "\n",
    "![Bobby Tables](https://imgs.xkcd.com/comics/exploits_of_a_mom.png)"
   ]
  },
  {
   "cell_type": "code",
   "execution_count": 1,
   "metadata": {},
   "outputs": [],
   "source": [
    "import sqlite3\n",
    "\n",
    "conn = sqlite3.connect(\"students.db\")  # Как оригинально!"
   ]
  },
  {
   "cell_type": "markdown",
   "metadata": {},
   "source": [
    "А дальше соединения с любой реляционной БД и (для любых типов реляционных СУБД) должны (желательно) удовлетворять [Python DB-API 2.0](https://www.python.org/dev/peps/pep-0249/)."
   ]
  },
  {
   "cell_type": "code",
   "execution_count": 2,
   "metadata": {},
   "outputs": [],
   "source": [
    "cursor = conn.cursor()\n",
    "\n",
    "with open(\"11.drop_ddl.sql\", 'r', encoding='utf-8') as f: drop_ddl = f.read()\n",
    "with open(\"11.create_ddl.sql\", 'r', encoding='utf-8') as f: create_ddl = f.read()\n",
    "with open(\"11.insert_dml.sql\", 'r', encoding='utf-8') as f: insert_dml = f.read()"
   ]
  },
  {
   "cell_type": "code",
   "execution_count": 3,
   "metadata": {},
   "outputs": [],
   "source": [
    "if True:\n",
    "    for st in drop_ddl.split(';'):\n",
    "        cursor.execute(st)\n",
    "    conn.commit()"
   ]
  },
  {
   "cell_type": "code",
   "execution_count": 4,
   "metadata": {},
   "outputs": [],
   "source": [
    "for st in create_ddl.split(';'):\n",
    "    cursor.execute(st)\n",
    "conn.commit()"
   ]
  },
  {
   "cell_type": "code",
   "execution_count": 5,
   "metadata": {},
   "outputs": [],
   "source": [
    "for st in insert_dml.split(';'):\n",
    "    cursor.execute(st)\n",
    "conn.commit()"
   ]
  },
  {
   "cell_type": "code",
   "execution_count": 6,
   "metadata": {},
   "outputs": [
    {
     "data": {
      "text/html": [
       "<table>\n",
       "<tbody>\n",
       "<tr><td>математика и информационные технологии</td><td>Скиндерев</td><td>Олег      </td><td></td></tr>\n",
       "<tr><td>теоретическая физика                  </td><td>Шошмина  </td><td>Анна Мария</td><td></td></tr>\n",
       "</tbody>\n",
       "</table>"
      ],
      "text/plain": [
       "<IPython.core.display.HTML object>"
      ]
     },
     "metadata": {},
     "output_type": "display_data"
    }
   ],
   "source": [
    "from IPython.display import HTML, display\n",
    "import tabulate  # pip install tabulate\n",
    "\n",
    "cursor.execute(\n",
    "    '''select programs.name, students.name, surname, patronymic\n",
    "    from programs join students\n",
    "    on programs.id = students.program_id''')\n",
    "table = list(cursor.fetchall())\n",
    "\n",
    "display(HTML(tabulate.tabulate(table, tablefmt='html')))"
   ]
  },
  {
   "cell_type": "code",
   "execution_count": 7,
   "metadata": {},
   "outputs": [],
   "source": [
    "conn.close()"
   ]
  }
 ],
 "metadata": {
  "kernelspec": {
   "display_name": "Python 3",
   "language": "python",
   "name": "python3"
  },
  "language_info": {
   "codemirror_mode": {
    "name": "ipython",
    "version": 3
   },
   "file_extension": ".py",
   "mimetype": "text/x-python",
   "name": "python",
   "nbconvert_exporter": "python",
   "pygments_lexer": "ipython3",
   "version": "3.7.0"
  }
 },
 "nbformat": 4,
 "nbformat_minor": 2
}
