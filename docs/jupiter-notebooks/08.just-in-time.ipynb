{
 "cells": [
  {
   "cell_type": "markdown",
   "metadata": {},
   "source": [
    "# Just-in-Time компиляция\n",
    "\n",
    "«Как раз вовремя» — компиляция, при которой машинный код геенрируется по мере исполнения программы для её критических с точки зрения производительности участков — обычно функций, реже — циклов.\n",
    "\n",
    "Некоторые реализации Python ([PyPy](https://www.pypy.org/)) содержат JIT-компилятор в дистрибутиве. Для CPython можно воспользоваться пакетом [Numba](https://numba.pydata.org/): `pip install numba`."
   ]
  },
  {
   "cell_type": "code",
   "execution_count": 1,
   "metadata": {},
   "outputs": [
    {
     "name": "stdout",
     "output_type": "stream",
     "text": [
      "2.71 s ± 69.2 ms per loop (mean ± std. dev. of 7 runs, 1 loop each)\n",
      "4.82 ms ± 50.3 µs per loop (mean ± std. dev. of 7 runs, 100 loops each)\n",
      "3.88 ms ± 61.1 µs per loop (mean ± std. dev. of 7 runs, 100 loops each)\n"
     ]
    }
   ],
   "source": [
    "from numba import njit, prange\n",
    "import numpy\n",
    "import numpy.random\n",
    "\n",
    "random_m = numpy.random.rand(300, 30000)\n",
    "\n",
    "def sum_matrix_nojit(m: 'numpy.ndarray')-> 'double':\n",
    "    s = 0.0\n",
    "    for r in range(m.shape[0]):\n",
    "        for c in range(m.shape[1]):\n",
    "            s += m[r, c]\n",
    "    return s\n",
    "\n",
    "\n",
    "@njit(fastmath=True)\n",
    "def sum_matrix_jit(m: 'numpy.ndarray')-> 'double':\n",
    "    s = 0.0\n",
    "    for r in range(m.shape[0]):\n",
    "        for c in range(m.shape[1]):\n",
    "            s += m[r, c]\n",
    "    return s\n",
    "\n",
    "\n",
    "@njit(parallel=True, fastmath=True)\n",
    "def sum_matrix_jit_par(m: 'numpy.ndarray')-> 'double':\n",
    "    s = 0.0\n",
    "    for r in prange(m.shape[0]):\n",
    "        for c in range(m.shape[1]):\n",
    "            s += m[r, c]\n",
    "    return s\n",
    "\n",
    "\n",
    "%timeit sum_matrix_nojit(random_m)\n",
    "\n",
    "sum_matrix_jit(random_m)  # give it a heat\n",
    "%timeit sum_matrix_jit(random_m)\n",
    "\n",
    "sum_matrix_jit_par(random_m)  # give it a heat\n",
    "%timeit sum_matrix_jit_par(random_m)"
   ]
  }
 ],
 "metadata": {
  "kernelspec": {
   "display_name": "Python 3",
   "language": "python",
   "name": "python3"
  },
  "language_info": {
   "codemirror_mode": {
    "name": "ipython",
    "version": 3
   },
   "file_extension": ".py",
   "mimetype": "text/x-python",
   "name": "python",
   "nbconvert_exporter": "python",
   "pygments_lexer": "ipython3",
   "version": "3.7.0"
  }
 },
 "nbformat": 4,
 "nbformat_minor": 2
}
