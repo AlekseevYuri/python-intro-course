{
 "cells": [
  {
   "cell_type": "markdown",
   "metadata": {},
   "source": [
    "# От множества к пространству\n",
    "\n",
    "Чем «пространство» отличается от «множества»? Если совсем на пальцах. Тем, что над его элементами определены операции. Соответственно, если мы просто «напишем» класс, то определим тип данных, элемент множества. А если реализуем для него операции — определим пространство.\n",
    "\n",
    "Тяжело найти что-то, чего нет в стандартной библиотеке. А тем более во внешних...\n",
    "\n",
    "![](https://imgs.xkcd.com/comics/python.png)\n",
    "\n",
    "Давайте считать, что кольцо многочленов не реализовано. А ведь полезная вещь! А как его реализовать? А очень просто: [вот тут всё написано](https://docs.python.org/3.7/reference/datamodel.html#emulating-numeric-types)!"
   ]
  },
  {
   "cell_type": "code",
   "execution_count": 1,
   "metadata": {},
   "outputs": [],
   "source": [
    "from numbers import Number\n",
    "import itertools\n",
    "\n",
    "\n",
    "class PolynomialDomainError(Exception):\n",
    "    pass\n",
    "\n",
    "\n",
    "class Polynomial:\n",
    "    \"\"\"Многочлен над полем (пока числовым, а там видно будет)\"\"\"\n",
    "    \n",
    "    def __init__(self, coefficients: 'list[Number]'=[0]):\n",
    "        \"\"\"\n",
    "        coefficients -- коэффициенты\n",
    "        \"\"\"\n",
    "        if not len(coefficients):\n",
    "            raise PolynomialDomainError(\"Non-empty list required to create polynimial\")\n",
    "        self.coefficients = coefficients\n",
    "\n",
    "        \n",
    "    def __str__(self):\n",
    "        return \"+\".join([\n",
    "            str(c) + (\"*x^\" + str(i) if i > 0 else \"\")\n",
    "            for c, i in reversed(list(zip(self.coefficients, itertools.count())))\n",
    "        ])\n",
    "\n",
    "    \n",
    "    def __eq__(self, other: 'Polynomial|Number'):\n",
    "        \"\"\"Вот тут точно полезно почитать https://wiki.python.org/moin/MultipleDispatch...\"\"\"\n",
    "        if isinstance(other, Polynomial):\n",
    "            return self.coefficients == other.coefficients\n",
    "        elif isinstance(other, Number):\n",
    "            return len(self.coefficients) == 1 and self.coefficients[0] == other\n",
    "        else:\n",
    "            raise PolynomialDomainError(\"Can't say if Polynomial is equal to \" + str(type(other)))\n",
    "\n",
    "    \n",
    "    def __complex__(self):\n",
    "        if len(self.coefficients) != 1:\n",
    "            raise PolynomialDomainError(\"Can't consider higher degree polynomial as a complex\")\n",
    "        \n",
    "        return complex(self.coefficients[0])\n",
    "\n",
    "    \n",
    "    def __float__(self):\n",
    "        if len(self.coefficients) != 1:\n",
    "            raise PolynomialDomainError(\"Can't consider higher degree polynomial as a float\")\n",
    "        \n",
    "        return float(self.coefficients[0])\n",
    "\n",
    "\n",
    "    def __int__(self):\n",
    "        if len(self.coefficients) != 1:\n",
    "            raise PolynomialDomainError(\"Can't consider higher degree polynomial as an integer\")\n",
    "        \n",
    "        return int(self.coefficients[0])\n",
    "\n",
    "# Стоп... а что это я всё сам пишу? Давайте дописывать вместе!"
   ]
  },
  {
   "cell_type": "markdown",
   "metadata": {},
   "source": [
    "Ну а теперь давайте посмотрим его в деле!"
   ]
  },
  {
   "cell_type": "code",
   "execution_count": 2,
   "metadata": {},
   "outputs": [
    {
     "name": "stdout",
     "output_type": "stream",
     "text": [
      "False\n",
      "True False\n",
      "3*x^2+2*x^1+1\n"
     ]
    }
   ],
   "source": [
    "p1 = Polynomial()\n",
    "p2 = Polynomial([1,2,3])\n",
    "\n",
    "print(p1 == p2)\n",
    "print(p1 == 0, p2 == 1)\n",
    "print(p2)"
   ]
  },
  {
   "cell_type": "markdown",
   "metadata": {},
   "source": [
    "## Задание\n",
    "\n",
    "Придумать и реализовать какой-нибудь свой тип данных с операциями. Вот идеи:\n",
    "\n",
    "* числа по модулю;\n",
    "* обычные числа, но с ошибками при вычислениях;\n",
    "* [кватеринионы](https://en.wikipedia.org/wiki/Quaternion);\n",
    "* можно матрицы (в т.ч. вектора) — они и так в NumPy есть, но всё равно же интересно;\n",
    "* что угодно на свой вкус, над чем можно определить арифметику или её подобие."
   ]
  }
 ],
 "metadata": {
  "kernelspec": {
   "display_name": "Python 3",
   "language": "python",
   "name": "python3"
  },
  "language_info": {
   "codemirror_mode": {
    "name": "ipython",
    "version": 3
   },
   "file_extension": ".py",
   "mimetype": "text/x-python",
   "name": "python",
   "nbconvert_exporter": "python",
   "pygments_lexer": "ipython3",
   "version": "3.7.0"
  }
 },
 "nbformat": 4,
 "nbformat_minor": 2
}
