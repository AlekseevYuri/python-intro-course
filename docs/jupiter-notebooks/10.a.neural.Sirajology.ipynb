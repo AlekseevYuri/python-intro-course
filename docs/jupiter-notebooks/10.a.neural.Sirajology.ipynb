{
 "cells": [
  {
   "cell_type": "markdown",
   "metadata": {},
   "source": [
    "# Annotations for the Sirajology Python NN Example\n",
    "\n",
    "Initially inspired by https://github.com/stmorgan/pythonNNexample\n",
    "\n",
    "This code comes from a demo NN program from the YouTube video https://youtu.be/h3l4qz76JhQ. The program creates an neural network that simulates the [XOR (exclusive OR)](https://en.wikipedia.org/wiki/XOR_gate) function with two inputs and one output. \n",
    "\n"
   ]
  },
  {
   "cell_type": "code",
   "execution_count": 1,
   "metadata": {},
   "outputs": [],
   "source": [
    "import numpy as np  # Note: there is a typo on this line in the video"
   ]
  },
  {
   "cell_type": "markdown",
   "metadata": {},
   "source": [
    "The following is a function definition of the sigmoid function, which is the type of non-linearity chosen for this neural net. It is not the only type of non-linearity that can be chosen, but is has nice analytical features and is easy to teach with. In practice, large-scale deep learning systems use piecewise-linear functions because they are much less expensive to evaluate. \n",
    "\n",
    "The implementation of this function does double duty. If the deriv=True flag is passed in, the function instead calculates the derivative of the function, which is used in the error backpropogation step. "
   ]
  },
  {
   "cell_type": "code",
   "execution_count": 66,
   "metadata": {},
   "outputs": [],
   "source": [
    "if False:\n",
    "    learning_throttle = 1.0\n",
    "    iterations = 60000\n",
    "\n",
    "    def σ(x):\n",
    "        return 1 / (1 + np.exp(-x))  # np exp is vectorized, same as np array operations\n",
    "\n",
    "    @np.vectorize\n",
    "    def d_σ_dx(x):\n",
    "        return x * (1- x)\n",
    "\n",
    "if False:\n",
    "    learning_throttle = 1.0\n",
    "    iterations = 60000\n",
    "\n",
    "    @np.vectorize\n",
    "    def σ(x):\n",
    "        return x if x > 0 else 0\n",
    "\n",
    "    @np.vectorize\n",
    "    def d_σ_dx(x):\n",
    "        return 1 if x > 0 else 0\n",
    "    \n",
    "if False:\n",
    "    learning_throttle = 1.0\n",
    "    iterations = 60000\n",
    "\n",
    "    @np.vectorize\n",
    "    def σ(x):\n",
    "        return x if 0 < x < 1 else 0 if x <= 0 else 1\n",
    "\n",
    "    @np.vectorize\n",
    "    def d_σ_dx(x):\n",
    "        return 1 if 0 < x < 1 else 0\n",
    "    \n",
    "if True:\n",
    "    learning_throttle = 1 / 20\n",
    "    iterations = 60000\n",
    "\n",
    "    def σ(x):\n",
    "        return np.arctan(x) / (np.pi / 2)\n",
    "\n",
    "    @np.vectorize\n",
    "    def d_σ_dx(x):\n",
    "        return 1 / (1 + x * x) / (np.pi / 2)"
   ]
  },
  {
   "cell_type": "markdown",
   "metadata": {},
   "source": [
    "The following code creates the input matrix. Although not mentioned in the video, the third column is for accommodating the bias term and is not part of the input. "
   ]
  },
  {
   "cell_type": "code",
   "execution_count": 49,
   "metadata": {},
   "outputs": [],
   "source": [
    "#input data\n",
    "X = np.array([[0,0,1],  # Note: there is a typo on this line in the video\n",
    "            [0,1,1],\n",
    "            [1,0,1],\n",
    "            [1,1,1]])"
   ]
  },
  {
   "cell_type": "markdown",
   "metadata": {},
   "source": [
    "The output of the exclusive OR function follows. "
   ]
  },
  {
   "cell_type": "code",
   "execution_count": 50,
   "metadata": {},
   "outputs": [],
   "source": [
    "#output data\n",
    "y = np.array([[0],\n",
    "             [1],\n",
    "             [1],\n",
    "             [0]])"
   ]
  },
  {
   "cell_type": "markdown",
   "metadata": {},
   "source": [
    "The seed for the random generator is set so that it will return the same random numbers each time re-running the script, which is sometimes useful for debugging."
   ]
  },
  {
   "cell_type": "code",
   "execution_count": 13,
   "metadata": {},
   "outputs": [],
   "source": [
    "np.random.seed(1)"
   ]
  },
  {
   "cell_type": "markdown",
   "metadata": {},
   "source": [
    "Now we intialize the weights to random values. syn0 are the weights between the input layer and the hidden layer.  It is a 3x4 matrix because there are two input weights plus a bias term (=3) and four nodes in the hidden layer (=4). syn1 are the weights between the hidden layer and the output layer. It is a 4x1 matrix because there are 4 nodes in the hidden layer and one output. Note that there is no bias term feeding the output layer in this example. The weights are initially generated randomly because optimization tends not to work well when all the weights start at the same value. Note that neither of the neural networks shown in the video describe the example. "
   ]
  },
  {
   "cell_type": "code",
   "execution_count": 64,
   "metadata": {},
   "outputs": [],
   "source": [
    "#synapses\n",
    "syn0 = 2*np.random.random((3,4)) - 1  # 3x4 matrix of weights ((2 inputs + 1 bias) x 4 nodes in the hidden layer)\n",
    "syn1 = 2*np.random.random((4,1)) - 1  # 4x1 matrix of weights. (4 nodes x 1 output) - no bias term in the hidden layer."
   ]
  },
  {
   "cell_type": "markdown",
   "metadata": {},
   "source": [
    "This is the main training loop. The output shows the evolution of the error between the model and desired. The error steadily decreases. "
   ]
  },
  {
   "cell_type": "code",
   "execution_count": 67,
   "metadata": {},
   "outputs": [
    {
     "name": "stdout",
     "output_type": "stream",
     "text": [
      "Error: 0.13310109030559475\n",
      "Error: 0.0068626213838261455\n",
      "Error: 0.006497614482134255\n",
      "Error: 0.0061831598408843835\n",
      "Error: 0.005908356284820437\n",
      "Error: 0.005665459394740986\n",
      "Output after training\n",
      "[[0.00317147]\n",
      " [0.99175716]\n",
      " [0.99306134]\n",
      " [0.00344206]]\n"
     ]
    }
   ],
   "source": [
    "for j in range(iterations):  \n",
    "    \n",
    "    # Calculate forward through the network.\n",
    "    l0 = X\n",
    "    l1 = σ(np.dot(l0, syn0))\n",
    "    l2 = σ(np.dot(l1, syn1))\n",
    "    \n",
    "    # Back propagation of errors using the chain rule. \n",
    "    l2_ε = y - l2       \n",
    "    l2_Δ = l2_ε * d_σ_dx(l2) * learning_throttle\n",
    "    \n",
    "    l1_ε = l2_Δ.dot(syn1.T)   \n",
    "    l1_Δ = l1_ε * d_σ_dx(l1) * learning_throttle\n",
    "    \n",
    "    #update weights (no learning rate term)\n",
    "    syn1 += l1.T.dot(l2_Δ)\n",
    "    syn0 += l0.T.dot(l1_Δ)\n",
    "    \n",
    "    if(j % 10000) == 0:   # Only print the error every 10000 steps, to save time and limit the amount of output. \n",
    "        print(\"Error: \" + str(np.mean(np.abs(l2_ε))))\n",
    "\n",
    "    \n",
    "print(\"Output after training\")\n",
    "print(l2)\n",
    "    \n",
    "    "
   ]
  },
  {
   "cell_type": "markdown",
   "metadata": {},
   "source": [
    "See how the final output closely approximates the true output [0, 1, 1, 0]. If you increase the number of interations in the training loop (currently 60000), the final output will be even closer. "
   ]
  },
  {
   "cell_type": "code",
   "execution_count": 10,
   "metadata": {},
   "outputs": [
    {
     "data": {
      "text/html": [
       "#The following line is for embedding the YouTube video \n",
       "#   in this Jupyter Notebook. You may remove it without peril. \n",
       "<iframe width=\"560\" height=\"315\" src=\"https://www.youtube.com/embed/h3l4qz76JhQ\" frameborder=\"0\" allowfullscreen></iframe>\n"
      ],
      "text/plain": [
       "<IPython.core.display.HTML object>"
      ]
     },
     "metadata": {},
     "output_type": "display_data"
    }
   ],
   "source": [
    "%%HTML\n",
    "#The following line is for embedding the YouTube video \n",
    "#   in this Jupyter Notebook. You may remove it without peril. \n",
    "<iframe width=\"560\" height=\"315\" src=\"https://www.youtube.com/embed/h3l4qz76JhQ\" frameborder=\"0\" allowfullscreen></iframe>"
   ]
  },
  {
   "cell_type": "code",
   "execution_count": null,
   "metadata": {
    "collapsed": true
   },
   "outputs": [],
   "source": []
  }
 ],
 "metadata": {
  "anaconda-cloud": {},
  "kernelspec": {
   "display_name": "Python 3",
   "language": "python",
   "name": "python3"
  },
  "language_info": {
   "codemirror_mode": {
    "name": "ipython",
    "version": 3
   },
   "file_extension": ".py",
   "mimetype": "text/x-python",
   "name": "python",
   "nbconvert_exporter": "python",
   "pygments_lexer": "ipython3",
   "version": "3.7.0"
  }
 },
 "nbformat": 4,
 "nbformat_minor": 1
}
