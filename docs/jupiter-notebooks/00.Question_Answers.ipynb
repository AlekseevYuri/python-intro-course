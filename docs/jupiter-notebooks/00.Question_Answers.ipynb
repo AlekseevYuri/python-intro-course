{
 "cells": [
  {
   "cell_type": "markdown",
   "metadata": {},
   "source": [
    "# Ответы на вопросы ознакомительного теста\n",
    "\n",
    "1. Какое наименьшее количество операций умножения достаточно для вычисления значения формулы: $x^4+x^3+x$?\n",
    "\n",
    "    Ответ: 3\n",
    "\n",
    "2. Укажите условия, при которых формулы: $a + a - a$ и $a + (a - a)$ не эквивалентны."
   ]
  },
  {
   "cell_type": "code",
   "execution_count": 86,
   "metadata": {},
   "outputs": [
    {
     "name": "stdout",
     "output_type": "stream",
     "text": [
      "inf 1.7976931348623157e+308 inf False\n",
      "0.0 True\n"
     ]
    }
   ],
   "source": [
    "import sys\n",
    "\n",
    "a = sys.float_info.max\n",
    "\n",
    "v1 = a + a - a\n",
    "v2 = a + (a - a)\n",
    "\n",
    "print(v1, v2, v1 - v2, v1 == v2)\n",
    "\n",
    "# Более того\n",
    "\n",
    "v3 = a - 1\n",
    "print(a - v3, a == v3)"
   ]
  },
  {
   "cell_type": "markdown",
   "metadata": {},
   "source": [
    "3. Напишите программу, которая разбивает последовательность чисел  на  групп так, чтобы\n",
    "    * в каждую группу входило ровно  чисел,\n",
    "    * каждое число входило в одну и только одну группу,\n",
    "    * сумма чисел в каждой группе была одинакова."
   ]
  },
  {
   "cell_type": "code",
   "execution_count": 30,
   "metadata": {},
   "outputs": [
    {
     "name": "stdin",
     "output_type": "stream",
     "text": [
      "N? 7\n"
     ]
    },
    {
     "data": {
      "text/html": [
       "<table>\n",
       "<tbody>\n",
       "<tr><td style=\"text-align: right;\">1</td><td style=\"text-align: right;\">14</td><td style=\"text-align: right;\">20</td><td style=\"text-align: right;\">26</td><td style=\"text-align: right;\">32</td><td style=\"text-align: right;\">38</td><td style=\"text-align: right;\">44</td></tr>\n",
       "<tr><td style=\"text-align: right;\">2</td><td style=\"text-align: right;\"> 8</td><td style=\"text-align: right;\">21</td><td style=\"text-align: right;\">27</td><td style=\"text-align: right;\">33</td><td style=\"text-align: right;\">39</td><td style=\"text-align: right;\">45</td></tr>\n",
       "<tr><td style=\"text-align: right;\">3</td><td style=\"text-align: right;\"> 9</td><td style=\"text-align: right;\">15</td><td style=\"text-align: right;\">28</td><td style=\"text-align: right;\">34</td><td style=\"text-align: right;\">40</td><td style=\"text-align: right;\">46</td></tr>\n",
       "<tr><td style=\"text-align: right;\">4</td><td style=\"text-align: right;\">10</td><td style=\"text-align: right;\">16</td><td style=\"text-align: right;\">22</td><td style=\"text-align: right;\">35</td><td style=\"text-align: right;\">41</td><td style=\"text-align: right;\">47</td></tr>\n",
       "<tr><td style=\"text-align: right;\">5</td><td style=\"text-align: right;\">11</td><td style=\"text-align: right;\">17</td><td style=\"text-align: right;\">23</td><td style=\"text-align: right;\">29</td><td style=\"text-align: right;\">42</td><td style=\"text-align: right;\">48</td></tr>\n",
       "<tr><td style=\"text-align: right;\">6</td><td style=\"text-align: right;\">12</td><td style=\"text-align: right;\">18</td><td style=\"text-align: right;\">24</td><td style=\"text-align: right;\">30</td><td style=\"text-align: right;\">36</td><td style=\"text-align: right;\">49</td></tr>\n",
       "<tr><td style=\"text-align: right;\">7</td><td style=\"text-align: right;\">13</td><td style=\"text-align: right;\">19</td><td style=\"text-align: right;\">25</td><td style=\"text-align: right;\">31</td><td style=\"text-align: right;\">37</td><td style=\"text-align: right;\">43</td></tr>\n",
       "</tbody>\n",
       "</table>"
      ],
      "text/plain": [
       "<IPython.core.display.HTML object>"
      ]
     },
     "metadata": {},
     "output_type": "display_data"
    },
    {
     "data": {
      "text/html": [
       "<table>\n",
       "<tbody>\n",
       "<tr><td style=\"text-align: right;\">1</td><td style=\"text-align: right;\">14</td><td style=\"text-align: right;\">20</td><td style=\"text-align: right;\">26</td><td style=\"text-align: right;\">32</td><td style=\"text-align: right;\">38</td><td style=\"text-align: right;\">44</td></tr>\n",
       "<tr><td style=\"text-align: right;\">2</td><td style=\"text-align: right;\"> 8</td><td style=\"text-align: right;\">21</td><td style=\"text-align: right;\">27</td><td style=\"text-align: right;\">33</td><td style=\"text-align: right;\">39</td><td style=\"text-align: right;\">45</td></tr>\n",
       "<tr><td style=\"text-align: right;\">3</td><td style=\"text-align: right;\"> 9</td><td style=\"text-align: right;\">15</td><td style=\"text-align: right;\">28</td><td style=\"text-align: right;\">34</td><td style=\"text-align: right;\">40</td><td style=\"text-align: right;\">46</td></tr>\n",
       "<tr><td style=\"text-align: right;\">4</td><td style=\"text-align: right;\">10</td><td style=\"text-align: right;\">16</td><td style=\"text-align: right;\">22</td><td style=\"text-align: right;\">35</td><td style=\"text-align: right;\">41</td><td style=\"text-align: right;\">47</td></tr>\n",
       "<tr><td style=\"text-align: right;\">5</td><td style=\"text-align: right;\">11</td><td style=\"text-align: right;\">17</td><td style=\"text-align: right;\">23</td><td style=\"text-align: right;\">29</td><td style=\"text-align: right;\">42</td><td style=\"text-align: right;\">48</td></tr>\n",
       "<tr><td style=\"text-align: right;\">6</td><td style=\"text-align: right;\">12</td><td style=\"text-align: right;\">18</td><td style=\"text-align: right;\">24</td><td style=\"text-align: right;\">30</td><td style=\"text-align: right;\">36</td><td style=\"text-align: right;\">49</td></tr>\n",
       "<tr><td style=\"text-align: right;\">7</td><td style=\"text-align: right;\">13</td><td style=\"text-align: right;\">19</td><td style=\"text-align: right;\">25</td><td style=\"text-align: right;\">31</td><td style=\"text-align: right;\">37</td><td style=\"text-align: right;\">43</td></tr>\n",
       "</tbody>\n",
       "</table>"
      ],
      "text/plain": [
       "<IPython.core.display.HTML object>"
      ]
     },
     "metadata": {},
     "output_type": "display_data"
    }
   ],
   "source": [
    "from IPython.display import HTML, display\n",
    "import tabulate\n",
    "\n",
    "n = int(input(\"N?\"))\n",
    "\n",
    "# Вариант 1\n",
    "\n",
    "a1 = [ [ 0 for j in range(n) ] for i in range(n) ]\n",
    "for i in range(n):\n",
    "    for j in range(n):\n",
    "        a1[(j + i) % n][i] = 1 + j + i * n\n",
    "\n",
    "display(HTML(tabulate.tabulate(a1, tablefmt='html')))\n",
    "\n",
    "# Вариант 2\n",
    "\n",
    "a2 = [ [ 1 + i * n + (j - i) % n for i in range(n)] for j in range(n)]\n",
    "\n",
    "display(HTML(tabulate.tabulate(a2, tablefmt='html')))"
   ]
  },
  {
   "cell_type": "markdown",
   "metadata": {},
   "source": [
    "4. Заданы две строки: $S$ и $P$. Напишите программу, которая ищет количество вхождений $P$ в $S$ как подстроки.\n",
    "\n",
    "    Для этой задачи, честно скажу, Питон не самый удачный язык. Напишем Рабина-Карпа вместе?"
   ]
  },
  {
   "cell_type": "markdown",
   "metadata": {},
   "source": [
    "5. Числа Фибоначчи определяются следующим образом: $F_k = F_{k-1} + F_{k-2}$, для $k > 2$, а $F_1 = F_2 = 1$. Напишите программу, которая по заданному $k$ печатает $F_k$."
   ]
  },
  {
   "cell_type": "code",
   "execution_count": 2,
   "metadata": {},
   "outputs": [
    {
     "name": "stdout",
     "output_type": "stream",
     "text": [
      "1 1\n",
      "2 1\n",
      "3 2\n",
      "4 3\n",
      "5 5\n",
      "6 8\n",
      "7 13\n",
      "8 21\n",
      "9 34\n"
     ]
    }
   ],
   "source": [
    "# Вариант 1\n",
    "\n",
    "def fib_1(n):\n",
    "    if n == 1 or n == 2:\n",
    "        return 1\n",
    "    f = 1\n",
    "    fp = 1\n",
    "    for i in range(n-2):\n",
    "        f, fp = f + fp, f\n",
    "    return f\n",
    "\n",
    "for n in range(1, 10):\n",
    "    print(n, fib_1(n))"
   ]
  },
  {
   "cell_type": "code",
   "execution_count": 38,
   "metadata": {},
   "outputs": [
    {
     "name": "stdout",
     "output_type": "stream",
     "text": [
      "1 1\n",
      "2 1\n",
      "3 2\n",
      "4 3\n",
      "5 5\n",
      "6 8\n",
      "7 13\n",
      "8 21\n",
      "9 34\n"
     ]
    }
   ],
   "source": [
    "# Вариант 2\n",
    "\n",
    "import functools\n",
    "\n",
    "@functools.lru_cache()\n",
    "def fib_2(n):\n",
    "    if n == 1 or n == 2:\n",
    "        return 1\n",
    "    else:\n",
    "        return fib_2(n-1) + fib_2(n-2)\n",
    "\n",
    "for n in range(1, 10):\n",
    "    print(n, fib_2(n))"
   ]
  },
  {
   "cell_type": "markdown",
   "metadata": {},
   "source": [
    "6. Заданы два числа $2 \\le R_s \\le 16$ и $2 \\le R_t \\le 16$ — основания двух систем счисления и строка $S_s$, представляющая число в первой системе счисления. Напишите программу, выводящую строку $S_t$ — то же число во второй системе счисления."
   ]
  },
  {
   "cell_type": "code",
   "execution_count": 44,
   "metadata": {},
   "outputs": [
    {
     "name": "stdout",
     "output_type": "stream",
     "text": [
      "255\n",
      "100\n"
     ]
    }
   ],
   "source": [
    "def c2int(c):\n",
    "    c = c.lower()\n",
    "    if '0' <= c <= '9':\n",
    "        return ord(c) - ord('0')\n",
    "    elif 'a' <= c <= 'z':\n",
    "        return 10 + ord(c) - ord('a')\n",
    "\n",
    "def int2c(v):\n",
    "    return \"0123456789abcdefghijklmnopqrstuvwxyz\"[v]\n",
    "    \n",
    "def s2int(string, base):\n",
    "    r = 0\n",
    "    for c in string:\n",
    "        r *= base\n",
    "        r += c2int(c)\n",
    "    return r\n",
    "\n",
    "def int2s(value, base):\n",
    "    r = \"\"\n",
    "    while value > 0:\n",
    "        d = value % base\n",
    "        r = int2c(d) + r\n",
    "        value = (value - d) // base\n",
    "    return r\n",
    "\n",
    "def cvt(string, src, dst):\n",
    "    return int2s(s2int(string, src), dst)\n",
    "\n",
    "print(cvt(\"ff\", 16, 10))\n",
    "print(cvt(\"256\", 10, 16))"
   ]
  },
  {
   "cell_type": "markdown",
   "metadata": {},
   "source": [
    "7. И.А. Хлестакова приглашали управлять департаментом. В первый день к нему прислали 1000 курьеров, а в каждый последующий в два раза больше, чем предыдущий. Иван Александро-вич согласился только тогда, когда к нему сразу прибыло не менее 30000 курьеров. На какой день это произошло? В программе нельзя использовать операции умножения и деления."
   ]
  },
  {
   "cell_type": "code",
   "execution_count": 45,
   "metadata": {},
   "outputs": [
    {
     "name": "stdout",
     "output_type": "stream",
     "text": [
      "6\n"
     ]
    }
   ],
   "source": [
    "# Вариант 1\n",
    "\n",
    "day = 1\n",
    "couriers = 1000\n",
    "\n",
    "while couriers < 30000:\n",
    "    couriers += couriers\n",
    "    day += 1\n",
    "\n",
    "print(day)"
   ]
  },
  {
   "cell_type": "code",
   "execution_count": 48,
   "metadata": {},
   "outputs": [
    {
     "name": "stdout",
     "output_type": "stream",
     "text": [
      "6\n"
     ]
    }
   ],
   "source": [
    "# Вариант 2\n",
    "\n",
    "import math\n",
    "\n",
    "print(math.ceil(math.log(30000 / 1000, 2)) + 1)"
   ]
  },
  {
   "cell_type": "code",
   "execution_count": null,
   "metadata": {},
   "outputs": [],
   "source": []
  }
 ],
 "metadata": {
  "kernelspec": {
   "display_name": "Python 3",
   "language": "python",
   "name": "python3"
  },
  "language_info": {
   "codemirror_mode": {
    "name": "ipython",
    "version": 3
   },
   "file_extension": ".py",
   "mimetype": "text/x-python",
   "name": "python",
   "nbconvert_exporter": "python",
   "pygments_lexer": "ipython3",
   "version": "3.7.4"
  }
 },
 "nbformat": 4,
 "nbformat_minor": 4
}
