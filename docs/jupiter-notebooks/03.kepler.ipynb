{
 "cells": [
  {
   "cell_type": "markdown",
   "metadata": {},
   "source": [
    "# Задача N тел\n",
    "\n",
    "Иоганн Кеплер (1571–1630). Несмотря на отсутсвие знаний о теории поля и динамике,\n",
    "установил важные закономерности, в т.ч. *закон Кеплера*\n",
    "о заметаемых движущейся вокруг центроида материальной точкой секторах.\n",
    "\n",
    "При этом, по некоторым неподтверждённым данным, полагал, что сила тяжести от расстояния зависит как $\\frac{1}{R}$, а не $\\frac{1}{R^2}$.\n",
    "\n",
    "## В нашей вселенной\n",
    "\n",
    "У нас три пространственных измерения, одно временное и ещё с десяток (а то и больше) всяких мудрёных, которые участвуют в нашей жизни слишком неочевидным образом, чтобы относиться к данному курсу.\n",
    "\n",
    "Материальная точка $a$ (вот об этом Кеплер не знал) индуцирует графитационное поле, которое является *потенциальным скалярным полем*. *Градиент* этого поля, умноженный на массу материальной точки $b$ индуцирует приложенную к ней силу тяжести. Сила тяжести направлена в сторону точки $a$, а её абсолютная величина пропорциональна *плотности потока* индуцированного точкой $a$ поля. Поток через любую поверхность вокруг токи $а$ постоянный. А плотность, если поверхность сферическая, обратно пропорциональна площади этой поверхности, т.е. пропорциональна $\\frac{1}{R^2}$.\n",
    "\n",
    "Смоделируем траекторию материальной точки около другой, «неподвижной» материальной точки. Находиться они будут всегда в одной плоскости, движение также будет в этой плоскости, поэтому модель вполне подойдёт двумерная, хотя мир и трёхмерный. Для двумерной модели можно бы было воспользоваться комплексными числами, но правильнее всё-таки векторами."
   ]
  },
  {
   "cell_type": "code",
   "execution_count": 49,
   "metadata": {},
   "outputs": [
    {
     "data": {
      "image/png": "[encoded data removed]",
      "text/plain": [
       "<Figure size 432x288 with 1 Axes>"
      ]
     },
     "metadata": {
      "needs_background": "light"
     },
     "output_type": "display_data"
    }
   ],
   "source": [
    "%matplotlib inline\n",
    "\n",
    "import numpy\n",
    "import numpy.linalg\n",
    "import matplotlib.pyplot as plt\n",
    "\n",
    "G = 50.0  # гравитационная постоянная\n",
    "collision_distance = 3.0  # всё-таки это не точки\n",
    "model_delta_t = 0.01\n",
    "time_to_model = 10\n",
    "\n",
    "class MaterialPoint:\n",
    "    \"\"\"Материальная точка, движущаяся по двумерной плоскости\"\"\"\n",
    "    \n",
    "    def __init__(self, mass: 'float', position: 'numpy.array', velocity: 'numpy.array'):\n",
    "        # Аннотации типов по желанию, но могут помочь IDE и компилятору, когда таковые имеются\n",
    "        self.mass = mass\n",
    "        self.position = position\n",
    "        self.velocity = velocity\n",
    "    \n",
    "    @staticmethod\n",
    "    def gravity_dencity(dist: 'float')-> 'float':\n",
    "        if dist > collision_distance:\n",
    "            return G / dist ** 2\n",
    "        else:\n",
    "            return -G / dist ** 3 # будем считать, что отскакивают точки друг от друга резко, но стараться не допускать этого\n",
    "    \n",
    "    def force_induced_by_other(self, other: 'MaterialPoint')-> 'numpy.array':\n",
    "        delta_p = other.position - self.position\n",
    "        distance = numpy.linalg.norm(delta_p)  # Евклидова норма (по теореме Пифагора)\n",
    "        force_direction = delta_p / distance\n",
    "        force = force_direction * self.mass * other.mass * MaterialPoint.gravity_dencity(distance)\n",
    "        return force\n",
    "    \n",
    "    def advance(self):\n",
    "        # print(self.position)\n",
    "        self.position += self.velocity * model_delta_t\n",
    "\n",
    "    def apply_force(self, force: 'numpy.array'):\n",
    "        # print(force)\n",
    "        self.velocity += force * model_delta_t / self.mass\n",
    "\n",
    "\n",
    "centrum = MaterialPoint(500.0, numpy.array([0.0, 0.0]), numpy.array([0.0, 0.0]))\n",
    "point_1 = MaterialPoint(10.0, numpy.array([50.0, 0.0]), numpy.array([0.0, 15.0]))\n",
    "point_2 = MaterialPoint(10.0, numpy.array([50.0, 40.0]), numpy.array([-7.0, 7.0]))\n",
    "\n",
    "\n",
    "def model_step():\n",
    "    point_1.apply_force(point_1.force_induced_by_other(centrum))\n",
    "    point_2.apply_force(point_2.force_induced_by_other(centrum))\n",
    "\n",
    "    point_1.advance()\n",
    "    point_2.advance()\n",
    "\n",
    "    \n",
    "\n",
    "xs_1 = []\n",
    "ys_1 = []\n",
    "xs_2 = []\n",
    "ys_2 = []\n",
    "for stepn in range(int(time_to_model / model_delta_t)):\n",
    "    xs_1.append(point_1.position[0])\n",
    "    ys_1.append(point_1.position[1])\n",
    "    xs_2.append(point_2.position[0])\n",
    "    ys_2.append(point_2.position[1])\n",
    "    model_step()\n",
    "\n",
    "c = plt.Circle((0, 0), 2, color='b')\n",
    "fig = plt.figure()\n",
    "ax = fig.add_subplot(1, 1, 1)\n",
    "ax.add_patch(c)\n",
    "\n",
    "plt.plot(xs_1,ys_1)\n",
    "plt.plot(xs_2,ys_2)\n",
    "\n",
    "plt.show()\n"
   ]
  },
  {
   "cell_type": "markdown",
   "metadata": {},
   "source": [
    "Мы получили идеализированную картину — материальные точки друг на друга не влияют, центроид не движется, но притягивает их, пространство трёхмерное.\n",
    "\n",
    "## В планиверсуме\n",
    "\n",
    "А.К. Дьюдни. Планиверсум. Виртуальный контакт с двумерным миром (оригинал англ., 1984 г.)\n",
    "\n",
    "Вполне возможно, что сам Дьюдни, как и Кеплер (но по иным причинам) не думал о применении аппарата теории поля к описываемому им миру. А ведь в его мире материальную точку должна окружать не сфера, а окружность. И (вспоминаем Кеплера!), если теорию поля брать за основу, сила тяжести в двумерном мире действительно будет пропорциональна $\\frac{1}{R}$!\n",
    "\n",
    "### Задание\n",
    "\n",
    "#### a\n",
    "\n",
    "Взять код выше и смоделировать ситуацию для двумерного мира (в котором сила тяготения пропорциональна $\\frac{1}{R}$) и набора из произвольного количества тел (проверить для трёх, но использовать список).\n",
    "\n",
    "#### b\n",
    "\n",
    "Посмотреть, как изменится картина, когда тела начнут притягивать друг друга."
   ]
  }
 ],
 "metadata": {
  "kernelspec": {
   "display_name": "Python 3",
   "language": "python",
   "name": "python3"
  },
  "language_info": {
   "codemirror_mode": {
    "name": "ipython",
    "version": 3
   },
   "file_extension": ".py",
   "mimetype": "text/x-python",
   "name": "python",
   "nbconvert_exporter": "python",
   "pygments_lexer": "ipython3",
   "version": "3.7.0"
  }
 },
 "nbformat": 4,
 "nbformat_minor": 2
}
