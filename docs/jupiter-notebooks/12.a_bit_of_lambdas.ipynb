{
 "cells": [
  {
   "cell_type": "markdown",
   "metadata": {},
   "source": [
    "# Немного про лямбды в питоне"
   ]
  },
  {
   "cell_type": "markdown",
   "metadata": {},
   "source": [
    "## А вообще почему «лямбда»?\n",
    "\n",
    "*Исторически сложилось* =)\n",
    "\n",
    "###  λ-исчисление\n",
    "\n",
    "[Лямбда-исчисление](https://ru.wikipedia.org/wiki/%D0%9B%D1%8F%D0%BC%D0%B1%D0%B4%D0%B0-%D0%B8%D1%81%D1%87%D0%B8%D1%81%D0%BB%D0%B5%D0%BD%D0%B8%D0%B5) предложено Алонзо Чёрчем (учителем Тьюринга) в 1930-х. Предполагает нотацию:\n",
    "\n",
    "* $x$ — просто значение;\n",
    "* $(\\lambda x . M)$ — определение функции с параметром $x$ при помощи выражения $M$;\n",
    "* $(M \\; x)$ — применение функции $M$ к значению $x$.\n",
    "\n",
    "### Как при помощи него что-либо считать?\n",
    "\n",
    "Операции:\n",
    "\n",
    "* $\\alpha$-конверсия — $( \\lambda x . M [x] ) \\rightarrow (\\lambda y . M [y] )$ — переименование параметров;\n",
    "* $\\beta$-редукция — $(\\lambda x . M) E) \\rightarrow (M [x:=E] )$ — подстановка значений параметров.\n",
    "\n",
    "### А кто-то так делает?..\n",
    "\n",
    "Да. ЛИСП (LISP, LISt Processing) и его диалекты. Попробовать можно, например, [тут](https://repl.it/languages/scheme).\n",
    "\n",
    "\n",
    "#### $\\beta$-редукция\n",
    "\n",
    "```scheme\n",
    "( (lambda (x) (+ x 2)) 3)\n",
    "```\n",
    "\n",
    "вычислятся, как `(+ 3 2)`.\n",
    "\n",
    "Посложнее\n",
    "\n",
    "```scheme\n",
    "(let* (\n",
    "      (y 1)\n",
    "      (f1 (lambda (x) (+ x 2)))\n",
    "    )\n",
    "\n",
    "    (display (f1 y))\n",
    "  )\n",
    "```\n",
    "\n",
    "Что за `let`? `let` работает, как определение и вызов функции:\n",
    "\n",
    "```scheme\n",
    "(let (\n",
    "    (переменная1 значение1)\n",
    "    (переменная2 значение2)\n",
    "    )\n",
    "    выражение\n",
    "    )\n",
    "```\n",
    "\n",
    "вычисляется, как (преобразуется в)\n",
    "\n",
    "```scheme\n",
    "((lambda (переменная1)\n",
    "      ((lambda (переменная2) выражение) значение2)\n",
    "      ) значение1)\n",
    "```\n",
    "\n",
    "например\n",
    "\n",
    "```scheme\n",
    "((lambda (переменная1)\n",
    "      ((lambda (переменная2) (+ переменная1 переменная2)) 2)\n",
    "      ) 1)\n",
    "```\n",
    "\n",
    "\n",
    "#### $\\alpha$-конверсия\n",
    "\n",
    "```scheme\n",
    "(let (\n",
    "    (переменная 1)\n",
    "    )\n",
    "    (begin\n",
    "      (let ((переменная 2))\n",
    "      (print переменная)\n",
    "        )\n",
    "      (print переменная)      \n",
    "    )\n",
    ")\n",
    "```\n",
    "\n",
    "На практике изменяет область видимости.\n",
    "\n",
    "\n",
    "У нас тут появился `begin`. Он получает набор выражений, вычисляет все, выдаёт значение последнего. Зачем вычисляет все? Ради *побочного эффекта*.\n",
    "\n",
    "#### Упражнение\n",
    "\n",
    "Попробуйте выразить через что-либо `begin`."
   ]
  },
  {
   "cell_type": "markdown",
   "metadata": {},
   "source": [
    "## Ок, с ЛИСПом всё тяжело\n",
    "\n",
    "Хотя даже [Лого](https://en.wikipedia.org/wiki/Logo_%28programming_language%29) — на самом деле диалект старого ЛИСПа, только с другим синтаксисом, см. [сюда](https://dluciv.livejournal.com/178394.html).\n",
    "\n",
    "Попробуем другой язык... даже не функциональный, но с функциональными возможностями — [Java](https://repl.it/languages/java) ([тут](https://repl.it/repls/UntimelyWarlikeKeys)).\n",
    "\n",
    "```java\n",
    "import java.util.Arrays;\n",
    "import java.util.List;\n",
    "import java.util.stream.Collectors;\n",
    "\n",
    "class Main {\n",
    "  public static void main(String[] args) {\n",
    "    List<String> lines = Arrays.asList(\"чёрный\", \"красный\", \"большой\", \"жёлтый\");\n",
    "\n",
    "    List<String> result = lines.stream()                // это нечто вроде генератора в Питоне, тоже ленивое\n",
    "                .filter(line -> ! \"жёлтый\".equals(line))     // лишнее слово, конечно же, жёлтый!\n",
    "                .collect(Collectors.toList());              // опять переделаем всё в список\n",
    "\n",
    "        result.forEach(System.out::println);\n",
    "  }\n",
    "}\n",
    "```\n",
    "\n",
    "А теперь похулиганим:\n",
    "\n",
    "```java\n",
    ".filter(line -> {\n",
    "                    System.out.println(\"Привет!\");\n",
    "                    return ! \"жёлтый\".equals(line);\n",
    "                  })\n",
    "```\n",
    "\n",
    "С одной стороны, здорово, т.к. есть **возможность**. С другой, нарушен принцип [Command-query separation](https://en.wikipedia.org/wiki/Command%E2%80%93query_separation)."
   ]
  },
  {
   "cell_type": "markdown",
   "metadata": {},
   "source": [
    "## Наконец лямбды в Питоне\n",
    "\n",
    "Для чего они вообще нужны? Обычно для того, чтобы задавать простые условия функциям, которые реализуют алгоритмы, могущие работать с разными условиями.\n",
    "\n",
    "Например, [`sorted`](https://docs.python.org/3/howto/sorting.html#key-functions):\n",
    "\n",
    "```python\n",
    ">>> sorted(\"This is a test string from Andrew\".split(), key=str.lower)\n",
    "['a', 'Andrew', 'from', 'is', 'string', 'test', 'This']\n",
    "```\n",
    "\n",
    "А если не стандартную функцию применять?\n",
    "\n",
    "```python\n",
    ">>> student_tuples = [\n",
    "...     ('john', 'A', 15),\n",
    "...     ('jane', 'B', 12),\n",
    "...     ('dave', 'B', 10),\n",
    "... ]\n",
    ">>> sorted(student_tuples, key=lambda student: student[2])   # sort by age\n",
    "[('dave', 'B', 10), ('jane', 'B', 12), ('john', 'A', 15)]\n",
    "```\n",
    "\n",
    "Можно сравнить `sorted` с `for`. `for` знает, как перебрать список/массив/всё, что перебирается, но не знает, что с каждым элементом делать. Что делать, ему говорят при помощи **тела цикла**. `sorted` тоже умеет сортировать, но чтобы сортировать, надо сравнивать, поэтому он может принять параметр — функцию, которая преобразует данные к упорядоченному типу.\n",
    "\n",
    "\n",
    "Для затравки: [Хватит использовать lambda выражения в Python](https://python-scripts.com/no-lambda) — октябрь 2018 г."
   ]
  },
  {
   "cell_type": "markdown",
   "metadata": {},
   "source": [
    "## Наконец лямбды в Питоне\n",
    "\n",
    "Для чего они вообще нужны? Обычно для того, чтобы задавать простые условия функциям, которые реализуют алгоритмы, могущие работать с разными условиями.\n",
    "\n",
    "Например, [`sorted`](https://docs.python.org/3/howto/sorting.html#key-functions):"
   ]
  },
  {
   "cell_type": "code",
   "execution_count": 1,
   "metadata": {},
   "outputs": [
    {
     "data": {
      "text/plain": [
       "['a', 'Andrew', 'from', 'is', 'string', 'test', 'This']"
      ]
     },
     "execution_count": 1,
     "metadata": {},
     "output_type": "execute_result"
    }
   ],
   "source": [
    "sorted(\"This is a test string from Andrew\".split(), key=str.lower)"
   ]
  },
  {
   "cell_type": "markdown",
   "metadata": {},
   "source": [
    "А если не стандартную функцию применять?"
   ]
  },
  {
   "cell_type": "code",
   "execution_count": 2,
   "metadata": {},
   "outputs": [
    {
     "data": {
      "text/plain": [
       "[('dave', 'B', 10), ('jane', 'B', 12), ('john', 'A', 15)]"
      ]
     },
     "execution_count": 2,
     "metadata": {},
     "output_type": "execute_result"
    }
   ],
   "source": [
    "student_tuples = [\n",
    "    ('john', 'A', 15),\n",
    "    ('jane', 'B', 12),\n",
    "    ('dave', 'B', 10),\n",
    "]\n",
    "\n",
    "sorted(student_tuples, key=lambda student: student[2])"
   ]
  },
  {
   "cell_type": "markdown",
   "metadata": {},
   "source": [
    "Можно сравнить `sorted` с `for`. `for` знает, как перебрать список/массив/всё, что перебирается, но не знает, что с каждым элементом делать. Что делать, ему говорят при помощи **тела цикла**. `sorted` тоже умеет сортировать, но чтобы сортировать, надо сравнивать, поэтому он может принять параметр — функцию, которая преобразует данные к упорядоченному типу.\n",
    "\n",
    "\n",
    "Для затравки: [Хватит использовать lambda выражения в Python](https://python-scripts.com/no-lambda) — октябрь 2018 г.\n",
    "И в целом оин не особо соответствуют Zen of Python."
   ]
  },
  {
   "cell_type": "code",
   "execution_count": 3,
   "metadata": {},
   "outputs": [
    {
     "name": "stdout",
     "output_type": "stream",
     "text": [
      "The Zen of Python, by Tim Peters\n",
      "\n",
      "Beautiful is better than ugly.\n",
      "Explicit is better than implicit.\n",
      "Simple is better than complex.\n",
      "Complex is better than complicated.\n",
      "Flat is better than nested.\n",
      "Sparse is better than dense.\n",
      "Readability counts.\n",
      "Special cases aren't special enough to break the rules.\n",
      "Although practicality beats purity.\n",
      "Errors should never pass silently.\n",
      "Unless explicitly silenced.\n",
      "In the face of ambiguity, refuse the temptation to guess.\n",
      "There should be one-- and preferably only one --obvious way to do it.\n",
      "Although that way may not be obvious at first unless you're Dutch.\n",
      "Now is better than never.\n",
      "Although never is often better than *right* now.\n",
      "If the implementation is hard to explain, it's a bad idea.\n",
      "If the implementation is easy to explain, it may be a good idea.\n",
      "Namespaces are one honking great idea -- let's do more of those!\n"
     ]
    }
   ],
   "source": [
    "import this"
   ]
  }
 ],
 "metadata": {
  "kernelspec": {
   "display_name": "Python 3",
   "language": "python",
   "name": "python3"
  },
  "language_info": {
   "codemirror_mode": {
    "name": "ipython",
    "version": 3
   },
   "file_extension": ".py",
   "mimetype": "text/x-python",
   "name": "python",
   "nbconvert_exporter": "python",
   "pygments_lexer": "ipython3",
   "version": "3.7.0"
  }
 },
 "nbformat": 4,
 "nbformat_minor": 2
}
